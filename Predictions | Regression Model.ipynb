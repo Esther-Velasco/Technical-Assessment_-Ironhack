{
 "cells": [
  {
   "cell_type": "markdown",
   "id": "1b3491c4",
   "metadata": {},
   "source": [
    "## 1. Import libraries"
   ]
  },
  {
   "cell_type": "code",
   "execution_count": 1,
   "id": "200a7bfd",
   "metadata": {},
   "outputs": [],
   "source": [
    "import pandas as pd\n",
    "import numpy as np\n",
    "from scipy import stats\n",
    "from sklearn.preprocessing import OneHotEncoder\n",
    "from sklearn.preprocessing import MinMaxScaler\n",
    "from sklearn.model_selection import train_test_split\n",
    "from sklearn.linear_model import LinearRegression\n",
    "from sklearn.tree import DecisionTreeRegressor\n",
    "from sklearn.neighbors import KNeighborsRegressor\n",
    "from sklearn import metrics\n",
    "\n",
    "import warnings\n",
    "warnings.filterwarnings(\"ignore\")"
   ]
  },
  {
   "cell_type": "code",
   "execution_count": 2,
   "id": "883dd198",
   "metadata": {},
   "outputs": [],
   "source": [
    "# import my libraries for visualizations\n",
    "import matplotlib.pyplot as plt\n",
    "import seaborn as sns"
   ]
  },
  {
   "cell_type": "code",
   "execution_count": 3,
   "id": "1741a0ec",
   "metadata": {},
   "outputs": [
    {
     "data": {
      "text/html": [
       "<div>\n",
       "<style scoped>\n",
       "    .dataframe tbody tr th:only-of-type {\n",
       "        vertical-align: middle;\n",
       "    }\n",
       "\n",
       "    .dataframe tbody tr th {\n",
       "        vertical-align: top;\n",
       "    }\n",
       "\n",
       "    .dataframe thead th {\n",
       "        text-align: right;\n",
       "    }\n",
       "</style>\n",
       "<table border=\"1\" class=\"dataframe\">\n",
       "  <thead>\n",
       "    <tr style=\"text-align: right;\">\n",
       "      <th></th>\n",
       "      <th>distance</th>\n",
       "      <th>consume</th>\n",
       "      <th>temp_inside</th>\n",
       "      <th>temp_outside</th>\n",
       "      <th>gas_type</th>\n",
       "      <th>ac</th>\n",
       "      <th>rain</th>\n",
       "      <th>sun</th>\n",
       "      <th>fuel_used</th>\n",
       "      <th>cost_of_trip</th>\n",
       "      <th>trip_in_hours</th>\n",
       "      <th>avg_speed</th>\n",
       "    </tr>\n",
       "  </thead>\n",
       "  <tbody>\n",
       "    <tr>\n",
       "      <th>0</th>\n",
       "      <td>28.0</td>\n",
       "      <td>5.0</td>\n",
       "      <td>21.5</td>\n",
       "      <td>12</td>\n",
       "      <td>E10</td>\n",
       "      <td>0</td>\n",
       "      <td>0</td>\n",
       "      <td>0</td>\n",
       "      <td>1.4000</td>\n",
       "      <td>2.863</td>\n",
       "      <td>0.433333</td>\n",
       "      <td>64.615385</td>\n",
       "    </tr>\n",
       "    <tr>\n",
       "      <th>1</th>\n",
       "      <td>12.0</td>\n",
       "      <td>4.2</td>\n",
       "      <td>21.5</td>\n",
       "      <td>13</td>\n",
       "      <td>E10</td>\n",
       "      <td>0</td>\n",
       "      <td>0</td>\n",
       "      <td>0</td>\n",
       "      <td>0.5040</td>\n",
       "      <td>1.031</td>\n",
       "      <td>0.500000</td>\n",
       "      <td>24.000000</td>\n",
       "    </tr>\n",
       "    <tr>\n",
       "      <th>2</th>\n",
       "      <td>11.2</td>\n",
       "      <td>5.5</td>\n",
       "      <td>21.5</td>\n",
       "      <td>15</td>\n",
       "      <td>E10</td>\n",
       "      <td>0</td>\n",
       "      <td>0</td>\n",
       "      <td>0</td>\n",
       "      <td>0.6160</td>\n",
       "      <td>1.260</td>\n",
       "      <td>0.633333</td>\n",
       "      <td>17.684211</td>\n",
       "    </tr>\n",
       "    <tr>\n",
       "      <th>3</th>\n",
       "      <td>12.9</td>\n",
       "      <td>3.9</td>\n",
       "      <td>21.5</td>\n",
       "      <td>14</td>\n",
       "      <td>E10</td>\n",
       "      <td>0</td>\n",
       "      <td>0</td>\n",
       "      <td>0</td>\n",
       "      <td>0.5031</td>\n",
       "      <td>1.029</td>\n",
       "      <td>0.600000</td>\n",
       "      <td>21.500000</td>\n",
       "    </tr>\n",
       "    <tr>\n",
       "      <th>4</th>\n",
       "      <td>18.5</td>\n",
       "      <td>4.5</td>\n",
       "      <td>21.5</td>\n",
       "      <td>15</td>\n",
       "      <td>E10</td>\n",
       "      <td>0</td>\n",
       "      <td>0</td>\n",
       "      <td>0</td>\n",
       "      <td>0.8325</td>\n",
       "      <td>1.702</td>\n",
       "      <td>0.766667</td>\n",
       "      <td>24.130435</td>\n",
       "    </tr>\n",
       "  </tbody>\n",
       "</table>\n",
       "</div>"
      ],
      "text/plain": [
       "   distance  consume  temp_inside  temp_outside gas_type  ac  rain  sun  \\\n",
       "0      28.0      5.0         21.5            12      E10   0     0    0   \n",
       "1      12.0      4.2         21.5            13      E10   0     0    0   \n",
       "2      11.2      5.5         21.5            15      E10   0     0    0   \n",
       "3      12.9      3.9         21.5            14      E10   0     0    0   \n",
       "4      18.5      4.5         21.5            15      E10   0     0    0   \n",
       "\n",
       "   fuel_used  cost_of_trip  trip_in_hours  avg_speed  \n",
       "0     1.4000         2.863       0.433333  64.615385  \n",
       "1     0.5040         1.031       0.500000  24.000000  \n",
       "2     0.6160         1.260       0.633333  17.684211  \n",
       "3     0.5031         1.029       0.600000  21.500000  \n",
       "4     0.8325         1.702       0.766667  24.130435  "
      ]
     },
     "execution_count": 3,
     "metadata": {},
     "output_type": "execute_result"
    }
   ],
   "source": [
    "#import data\n",
    "data = pd.read_csv(\"data/cleaned_data.csv\")\n",
    "data.head()"
   ]
  },
  {
   "cell_type": "code",
   "execution_count": 4,
   "id": "4ece187b",
   "metadata": {},
   "outputs": [],
   "source": [
    "data_num = data.select_dtypes(np.number)\n",
    "data_cat = data.select_dtypes(object)"
   ]
  },
  {
   "cell_type": "code",
   "execution_count": 5,
   "id": "4d61450f",
   "metadata": {},
   "outputs": [
    {
     "data": {
      "text/html": [
       "<div>\n",
       "<style scoped>\n",
       "    .dataframe tbody tr th:only-of-type {\n",
       "        vertical-align: middle;\n",
       "    }\n",
       "\n",
       "    .dataframe tbody tr th {\n",
       "        vertical-align: top;\n",
       "    }\n",
       "\n",
       "    .dataframe thead th {\n",
       "        text-align: right;\n",
       "    }\n",
       "</style>\n",
       "<table border=\"1\" class=\"dataframe\">\n",
       "  <thead>\n",
       "    <tr style=\"text-align: right;\">\n",
       "      <th></th>\n",
       "      <th>distance</th>\n",
       "      <th>consume</th>\n",
       "      <th>temp_inside</th>\n",
       "      <th>temp_outside</th>\n",
       "      <th>ac</th>\n",
       "      <th>rain</th>\n",
       "      <th>sun</th>\n",
       "      <th>fuel_used</th>\n",
       "      <th>cost_of_trip</th>\n",
       "      <th>trip_in_hours</th>\n",
       "      <th>avg_speed</th>\n",
       "    </tr>\n",
       "  </thead>\n",
       "  <tbody>\n",
       "    <tr>\n",
       "      <th>distance</th>\n",
       "      <td>1.000000</td>\n",
       "      <td>-0.128967</td>\n",
       "      <td>0.077636</td>\n",
       "      <td>0.088175</td>\n",
       "      <td>-0.025738</td>\n",
       "      <td>-0.019791</td>\n",
       "      <td>0.081120</td>\n",
       "      <td>0.992101</td>\n",
       "      <td>0.990944</td>\n",
       "      <td>0.562299</td>\n",
       "      <td>0.884942</td>\n",
       "    </tr>\n",
       "    <tr>\n",
       "      <th>consume</th>\n",
       "      <td>-0.128967</td>\n",
       "      <td>1.000000</td>\n",
       "      <td>-0.154953</td>\n",
       "      <td>-0.320811</td>\n",
       "      <td>0.096591</td>\n",
       "      <td>0.248118</td>\n",
       "      <td>-0.170667</td>\n",
       "      <td>-0.052188</td>\n",
       "      <td>-0.051965</td>\n",
       "      <td>-0.227866</td>\n",
       "      <td>-0.177825</td>\n",
       "    </tr>\n",
       "    <tr>\n",
       "      <th>temp_inside</th>\n",
       "      <td>0.077636</td>\n",
       "      <td>-0.154953</td>\n",
       "      <td>1.000000</td>\n",
       "      <td>0.357431</td>\n",
       "      <td>0.300407</td>\n",
       "      <td>-0.035199</td>\n",
       "      <td>0.241530</td>\n",
       "      <td>0.065359</td>\n",
       "      <td>0.064781</td>\n",
       "      <td>0.060039</td>\n",
       "      <td>0.069588</td>\n",
       "    </tr>\n",
       "    <tr>\n",
       "      <th>temp_outside</th>\n",
       "      <td>0.088175</td>\n",
       "      <td>-0.320811</td>\n",
       "      <td>0.357431</td>\n",
       "      <td>1.000000</td>\n",
       "      <td>0.167562</td>\n",
       "      <td>-0.186315</td>\n",
       "      <td>0.346903</td>\n",
       "      <td>0.037877</td>\n",
       "      <td>0.040100</td>\n",
       "      <td>0.015411</td>\n",
       "      <td>0.107179</td>\n",
       "    </tr>\n",
       "    <tr>\n",
       "      <th>ac</th>\n",
       "      <td>-0.025738</td>\n",
       "      <td>0.096591</td>\n",
       "      <td>0.300407</td>\n",
       "      <td>0.167562</td>\n",
       "      <td>1.000000</td>\n",
       "      <td>0.242915</td>\n",
       "      <td>0.088598</td>\n",
       "      <td>-0.018700</td>\n",
       "      <td>-0.017403</td>\n",
       "      <td>-0.035408</td>\n",
       "      <td>-0.009260</td>\n",
       "    </tr>\n",
       "    <tr>\n",
       "      <th>rain</th>\n",
       "      <td>-0.019791</td>\n",
       "      <td>0.248118</td>\n",
       "      <td>-0.035199</td>\n",
       "      <td>-0.186315</td>\n",
       "      <td>0.242915</td>\n",
       "      <td>1.000000</td>\n",
       "      <td>-0.112650</td>\n",
       "      <td>0.009125</td>\n",
       "      <td>0.011388</td>\n",
       "      <td>0.009489</td>\n",
       "      <td>-0.027300</td>\n",
       "    </tr>\n",
       "    <tr>\n",
       "      <th>sun</th>\n",
       "      <td>0.081120</td>\n",
       "      <td>-0.170667</td>\n",
       "      <td>0.241530</td>\n",
       "      <td>0.346903</td>\n",
       "      <td>0.088598</td>\n",
       "      <td>-0.112650</td>\n",
       "      <td>1.000000</td>\n",
       "      <td>0.064247</td>\n",
       "      <td>0.065632</td>\n",
       "      <td>0.081618</td>\n",
       "      <td>0.058150</td>\n",
       "    </tr>\n",
       "    <tr>\n",
       "      <th>fuel_used</th>\n",
       "      <td>0.992101</td>\n",
       "      <td>-0.052188</td>\n",
       "      <td>0.065359</td>\n",
       "      <td>0.037877</td>\n",
       "      <td>-0.018700</td>\n",
       "      <td>0.009125</td>\n",
       "      <td>0.064247</td>\n",
       "      <td>1.000000</td>\n",
       "      <td>0.999497</td>\n",
       "      <td>0.551847</td>\n",
       "      <td>0.868658</td>\n",
       "    </tr>\n",
       "    <tr>\n",
       "      <th>cost_of_trip</th>\n",
       "      <td>0.990944</td>\n",
       "      <td>-0.051965</td>\n",
       "      <td>0.064781</td>\n",
       "      <td>0.040100</td>\n",
       "      <td>-0.017403</td>\n",
       "      <td>0.011388</td>\n",
       "      <td>0.065632</td>\n",
       "      <td>0.999497</td>\n",
       "      <td>1.000000</td>\n",
       "      <td>0.546884</td>\n",
       "      <td>0.867029</td>\n",
       "    </tr>\n",
       "    <tr>\n",
       "      <th>trip_in_hours</th>\n",
       "      <td>0.562299</td>\n",
       "      <td>-0.227866</td>\n",
       "      <td>0.060039</td>\n",
       "      <td>0.015411</td>\n",
       "      <td>-0.035408</td>\n",
       "      <td>0.009489</td>\n",
       "      <td>0.081618</td>\n",
       "      <td>0.551847</td>\n",
       "      <td>0.546884</td>\n",
       "      <td>1.000000</td>\n",
       "      <td>0.245061</td>\n",
       "    </tr>\n",
       "    <tr>\n",
       "      <th>avg_speed</th>\n",
       "      <td>0.884942</td>\n",
       "      <td>-0.177825</td>\n",
       "      <td>0.069588</td>\n",
       "      <td>0.107179</td>\n",
       "      <td>-0.009260</td>\n",
       "      <td>-0.027300</td>\n",
       "      <td>0.058150</td>\n",
       "      <td>0.868658</td>\n",
       "      <td>0.867029</td>\n",
       "      <td>0.245061</td>\n",
       "      <td>1.000000</td>\n",
       "    </tr>\n",
       "  </tbody>\n",
       "</table>\n",
       "</div>"
      ],
      "text/plain": [
       "               distance   consume  temp_inside  temp_outside        ac  \\\n",
       "distance       1.000000 -0.128967     0.077636      0.088175 -0.025738   \n",
       "consume       -0.128967  1.000000    -0.154953     -0.320811  0.096591   \n",
       "temp_inside    0.077636 -0.154953     1.000000      0.357431  0.300407   \n",
       "temp_outside   0.088175 -0.320811     0.357431      1.000000  0.167562   \n",
       "ac            -0.025738  0.096591     0.300407      0.167562  1.000000   \n",
       "rain          -0.019791  0.248118    -0.035199     -0.186315  0.242915   \n",
       "sun            0.081120 -0.170667     0.241530      0.346903  0.088598   \n",
       "fuel_used      0.992101 -0.052188     0.065359      0.037877 -0.018700   \n",
       "cost_of_trip   0.990944 -0.051965     0.064781      0.040100 -0.017403   \n",
       "trip_in_hours  0.562299 -0.227866     0.060039      0.015411 -0.035408   \n",
       "avg_speed      0.884942 -0.177825     0.069588      0.107179 -0.009260   \n",
       "\n",
       "                   rain       sun  fuel_used  cost_of_trip  trip_in_hours  \\\n",
       "distance      -0.019791  0.081120   0.992101      0.990944       0.562299   \n",
       "consume        0.248118 -0.170667  -0.052188     -0.051965      -0.227866   \n",
       "temp_inside   -0.035199  0.241530   0.065359      0.064781       0.060039   \n",
       "temp_outside  -0.186315  0.346903   0.037877      0.040100       0.015411   \n",
       "ac             0.242915  0.088598  -0.018700     -0.017403      -0.035408   \n",
       "rain           1.000000 -0.112650   0.009125      0.011388       0.009489   \n",
       "sun           -0.112650  1.000000   0.064247      0.065632       0.081618   \n",
       "fuel_used      0.009125  0.064247   1.000000      0.999497       0.551847   \n",
       "cost_of_trip   0.011388  0.065632   0.999497      1.000000       0.546884   \n",
       "trip_in_hours  0.009489  0.081618   0.551847      0.546884       1.000000   \n",
       "avg_speed     -0.027300  0.058150   0.868658      0.867029       0.245061   \n",
       "\n",
       "               avg_speed  \n",
       "distance        0.884942  \n",
       "consume        -0.177825  \n",
       "temp_inside     0.069588  \n",
       "temp_outside    0.107179  \n",
       "ac             -0.009260  \n",
       "rain           -0.027300  \n",
       "sun             0.058150  \n",
       "fuel_used       0.868658  \n",
       "cost_of_trip    0.867029  \n",
       "trip_in_hours   0.245061  \n",
       "avg_speed       1.000000  "
      ]
     },
     "execution_count": 5,
     "metadata": {},
     "output_type": "execute_result"
    }
   ],
   "source": [
    "#checking for correlations and heat map\n",
    "correlations = data_num.corr()\n",
    "correlations"
   ]
  },
  {
   "cell_type": "code",
   "execution_count": 6,
   "id": "67de8f7a",
   "metadata": {},
   "outputs": [
    {
     "data": {
      "image/png": "[encoded data removed]",
      "text/plain": [
       "<Figure size 1000x800 with 2 Axes>"
      ]
     },
     "metadata": {},
     "output_type": "display_data"
    }
   ],
   "source": [
    "#heat map\n",
    "fig, ax = plt.subplots(figsize=(10,8))\n",
    "ax = sns.heatmap(correlations, annot = True)\n",
    "plt.show()"
   ]
  },
  {
   "cell_type": "markdown",
   "id": "da83eb50",
   "metadata": {},
   "source": [
    "High colinearity present (0.99), but it comes from the columns that were created and that are derived from the data. Therefore this explains the high colinearlity, and they will need to be dropped for a more robust prediction model. "
   ]
  },
  {
   "cell_type": "code",
   "execution_count": 7,
   "id": "59db1d96",
   "metadata": {},
   "outputs": [],
   "source": [
    "cols_to_drop = [\"avg_speed\", \"cost_of_trip\", \"fuel_used\"]"
   ]
  },
  {
   "cell_type": "code",
   "execution_count": 8,
   "id": "a8aef29d",
   "metadata": {},
   "outputs": [],
   "source": [
    "data = data.drop(cols_to_drop, axis= 1)"
   ]
  },
  {
   "cell_type": "markdown",
   "id": "7c5a07c3",
   "metadata": {},
   "source": [
    "# 1. X(features)-y(target) Split to predict the amount of fuel consumed"
   ]
  },
  {
   "cell_type": "code",
   "execution_count": 9,
   "id": "6abcd9e3",
   "metadata": {},
   "outputs": [],
   "source": [
    "X = data.drop(\"consume\", axis = 1)\n",
    "y = data[\"consume\"]"
   ]
  },
  {
   "cell_type": "markdown",
   "id": "454529fd",
   "metadata": {},
   "source": [
    "# 2. Train - test split"
   ]
  },
  {
   "cell_type": "code",
   "execution_count": 10,
   "id": "6a1193b6",
   "metadata": {},
   "outputs": [],
   "source": [
    "X_train, X_test, y_train, y_test = train_test_split(X,y, test_size = 0.2, random_state = 13)"
   ]
  },
  {
   "cell_type": "code",
   "execution_count": 11,
   "id": "9ebdcdf5",
   "metadata": {},
   "outputs": [],
   "source": [
    "#cat/numm divide for scaling\n",
    "X_train_num = X_train.select_dtypes(np.number)\n",
    "X_train_cat = X_train.select_dtypes(object)\n",
    "X_test_num = X_test.select_dtypes(np.number)\n",
    "X_test_cat = X_test.select_dtypes(object)"
   ]
  },
  {
   "cell_type": "markdown",
   "id": "1b33b58e",
   "metadata": {},
   "source": [
    "# 3. Data transformation and  scaling: numerical data\n"
   ]
  },
  {
   "cell_type": "markdown",
   "id": "f04f7998",
   "metadata": {},
   "source": [
    "## Fit AND transforming train first"
   ]
  },
  {
   "cell_type": "code",
   "execution_count": 12,
   "id": "cda621a4",
   "metadata": {},
   "outputs": [],
   "source": [
    "scaler = MinMaxScaler().fit(X_train_num)\n",
    "#transformin train data only\n",
    "X_train_norm = scaler.transform(X_train_num)"
   ]
  },
  {
   "cell_type": "code",
   "execution_count": 13,
   "id": "4b2a7ba9",
   "metadata": {},
   "outputs": [
    {
     "data": {
      "text/html": [
       "<div>\n",
       "<style scoped>\n",
       "    .dataframe tbody tr th:only-of-type {\n",
       "        vertical-align: middle;\n",
       "    }\n",
       "\n",
       "    .dataframe tbody tr th {\n",
       "        vertical-align: top;\n",
       "    }\n",
       "\n",
       "    .dataframe thead th {\n",
       "        text-align: right;\n",
       "    }\n",
       "</style>\n",
       "<table border=\"1\" class=\"dataframe\">\n",
       "  <thead>\n",
       "    <tr style=\"text-align: right;\">\n",
       "      <th></th>\n",
       "      <th>distance</th>\n",
       "      <th>temp_inside</th>\n",
       "      <th>temp_outside</th>\n",
       "      <th>ac</th>\n",
       "      <th>rain</th>\n",
       "      <th>sun</th>\n",
       "      <th>trip_in_hours</th>\n",
       "    </tr>\n",
       "  </thead>\n",
       "  <tbody>\n",
       "    <tr>\n",
       "      <th>158</th>\n",
       "      <td>0.095079</td>\n",
       "      <td>0.384615</td>\n",
       "      <td>0.388889</td>\n",
       "      <td>0.0</td>\n",
       "      <td>1.0</td>\n",
       "      <td>0.0</td>\n",
       "      <td>0.410959</td>\n",
       "    </tr>\n",
       "    <tr>\n",
       "      <th>162</th>\n",
       "      <td>0.246058</td>\n",
       "      <td>0.384615</td>\n",
       "      <td>0.194444</td>\n",
       "      <td>0.0</td>\n",
       "      <td>0.0</td>\n",
       "      <td>0.0</td>\n",
       "      <td>0.780822</td>\n",
       "    </tr>\n",
       "    <tr>\n",
       "      <th>283</th>\n",
       "      <td>0.145246</td>\n",
       "      <td>0.461538</td>\n",
       "      <td>0.583333</td>\n",
       "      <td>0.0</td>\n",
       "      <td>0.0</td>\n",
       "      <td>0.0</td>\n",
       "      <td>0.493151</td>\n",
       "    </tr>\n",
       "    <tr>\n",
       "      <th>79</th>\n",
       "      <td>0.158146</td>\n",
       "      <td>0.153846</td>\n",
       "      <td>0.250000</td>\n",
       "      <td>0.0</td>\n",
       "      <td>0.0</td>\n",
       "      <td>0.0</td>\n",
       "      <td>0.191781</td>\n",
       "    </tr>\n",
       "    <tr>\n",
       "      <th>336</th>\n",
       "      <td>0.065456</td>\n",
       "      <td>0.384615</td>\n",
       "      <td>0.722222</td>\n",
       "      <td>0.0</td>\n",
       "      <td>0.0</td>\n",
       "      <td>0.0</td>\n",
       "      <td>0.493151</td>\n",
       "    </tr>\n",
       "  </tbody>\n",
       "</table>\n",
       "</div>"
      ],
      "text/plain": [
       "     distance  temp_inside  temp_outside   ac  rain  sun  trip_in_hours\n",
       "158  0.095079     0.384615      0.388889  0.0   1.0  0.0       0.410959\n",
       "162  0.246058     0.384615      0.194444  0.0   0.0  0.0       0.780822\n",
       "283  0.145246     0.461538      0.583333  0.0   0.0  0.0       0.493151\n",
       "79   0.158146     0.153846      0.250000  0.0   0.0  0.0       0.191781\n",
       "336  0.065456     0.384615      0.722222  0.0   0.0  0.0       0.493151"
      ]
     },
     "execution_count": 13,
     "metadata": {},
     "output_type": "execute_result"
    }
   ],
   "source": [
    "#creating a DF\n",
    "X_train_num_scale = pd.DataFrame(X_train_norm, index = X_train_num.index, columns = X_train_num.columns)\n",
    "X_train_num_scale.head()"
   ]
  },
  {
   "cell_type": "markdown",
   "id": "4648415c",
   "metadata": {},
   "source": [
    "## Only transforming test"
   ]
  },
  {
   "cell_type": "code",
   "execution_count": 14,
   "id": "514af7a2",
   "metadata": {},
   "outputs": [
    {
     "data": {
      "text/html": [
       "<div>\n",
       "<style scoped>\n",
       "    .dataframe tbody tr th:only-of-type {\n",
       "        vertical-align: middle;\n",
       "    }\n",
       "\n",
       "    .dataframe tbody tr th {\n",
       "        vertical-align: top;\n",
       "    }\n",
       "\n",
       "    .dataframe thead th {\n",
       "        text-align: right;\n",
       "    }\n",
       "</style>\n",
       "<table border=\"1\" class=\"dataframe\">\n",
       "  <thead>\n",
       "    <tr style=\"text-align: right;\">\n",
       "      <th></th>\n",
       "      <th>distance</th>\n",
       "      <th>temp_inside</th>\n",
       "      <th>temp_outside</th>\n",
       "      <th>ac</th>\n",
       "      <th>rain</th>\n",
       "      <th>sun</th>\n",
       "      <th>trip_in_hours</th>\n",
       "    </tr>\n",
       "  </thead>\n",
       "  <tbody>\n",
       "    <tr>\n",
       "      <th>373</th>\n",
       "      <td>0.064978</td>\n",
       "      <td>0.769231</td>\n",
       "      <td>0.888889</td>\n",
       "      <td>1.0</td>\n",
       "      <td>0.0</td>\n",
       "      <td>0.0</td>\n",
       "      <td>0.027397</td>\n",
       "    </tr>\n",
       "    <tr>\n",
       "      <th>269</th>\n",
       "      <td>0.065456</td>\n",
       "      <td>0.461538</td>\n",
       "      <td>0.527778</td>\n",
       "      <td>0.0</td>\n",
       "      <td>0.0</td>\n",
       "      <td>0.0</td>\n",
       "      <td>0.493151</td>\n",
       "    </tr>\n",
       "    <tr>\n",
       "      <th>109</th>\n",
       "      <td>0.071190</td>\n",
       "      <td>0.307692</td>\n",
       "      <td>0.333333</td>\n",
       "      <td>0.0</td>\n",
       "      <td>0.0</td>\n",
       "      <td>0.0</td>\n",
       "      <td>0.575342</td>\n",
       "    </tr>\n",
       "    <tr>\n",
       "      <th>27</th>\n",
       "      <td>0.079790</td>\n",
       "      <td>0.384615</td>\n",
       "      <td>0.222222</td>\n",
       "      <td>0.0</td>\n",
       "      <td>0.0</td>\n",
       "      <td>0.0</td>\n",
       "      <td>0.191781</td>\n",
       "    </tr>\n",
       "    <tr>\n",
       "      <th>242</th>\n",
       "      <td>0.035834</td>\n",
       "      <td>0.538462</td>\n",
       "      <td>0.361111</td>\n",
       "      <td>0.0</td>\n",
       "      <td>1.0</td>\n",
       "      <td>0.0</td>\n",
       "      <td>0.260274</td>\n",
       "    </tr>\n",
       "  </tbody>\n",
       "</table>\n",
       "</div>"
      ],
      "text/plain": [
       "     distance  temp_inside  temp_outside   ac  rain  sun  trip_in_hours\n",
       "373  0.064978     0.769231      0.888889  1.0   0.0  0.0       0.027397\n",
       "269  0.065456     0.461538      0.527778  0.0   0.0  0.0       0.493151\n",
       "109  0.071190     0.307692      0.333333  0.0   0.0  0.0       0.575342\n",
       "27   0.079790     0.384615      0.222222  0.0   0.0  0.0       0.191781\n",
       "242  0.035834     0.538462      0.361111  0.0   1.0  0.0       0.260274"
      ]
     },
     "execution_count": 14,
     "metadata": {},
     "output_type": "execute_result"
    }
   ],
   "source": [
    "X_test_norm = scaler.transform(X_test_num)\n",
    "#creating a DF\n",
    "\n",
    "X_test_num_scale = pd.DataFrame(X_test_norm, index = X_test_num.index, columns = X_test_num.columns)\n",
    "X_test_num_scale.head()"
   ]
  },
  {
   "cell_type": "markdown",
   "id": "c06cc0b4",
   "metadata": {},
   "source": [
    "# 4. Data transformation and  scaling: categorical data\n"
   ]
  },
  {
   "cell_type": "code",
   "execution_count": 18,
   "id": "e6982def",
   "metadata": {},
   "outputs": [
    {
     "data": {
      "text/plain": [
       "158    0\n",
       "162    0\n",
       "283    0\n",
       "79     0\n",
       "336    0\n",
       "      ..\n",
       "230    0\n",
       "16     0\n",
       "74     0\n",
       "176    0\n",
       "338    0\n",
       "Name: gas_type, Length: 310, dtype: int64"
      ]
     },
     "execution_count": 18,
     "metadata": {},
     "output_type": "execute_result"
    }
   ],
   "source": [
    "X_train_cat[\"gas_type\"]=np.where(X_train_cat[\"gas_type\"]==\"E10\",1,0)\n",
    "X_train_cat[\"gas_type\"]\n",
    "#Another option is using map() function:\n",
    "#X_train_cat[\"gas_type\"] = X_train_cat[\"gas_type\"].map({\"E10\": 1, \"SP98\": 0})"
   ]
  },
  {
   "cell_type": "code",
   "execution_count": 17,
   "id": "d6bbf500",
   "metadata": {},
   "outputs": [
    {
     "data": {
      "text/plain": [
       "373    0\n",
       "269    1\n",
       "109    0\n",
       "27     1\n",
       "242    1\n",
       "      ..\n",
       "125    0\n",
       "310    0\n",
       "54     0\n",
       "240    1\n",
       "273    1\n",
       "Name: gas_type, Length: 78, dtype: int64"
      ]
     },
     "execution_count": 17,
     "metadata": {},
     "output_type": "execute_result"
    }
   ],
   "source": [
    "X_test_cat[\"gas_type\"]=np.where(X_test_cat[\"gas_type\"]==\"E10\",1,0)\n",
    "X_test_cat[\"gas_type\"]"
   ]
  },
  {
   "cell_type": "markdown",
   "id": "05422ede",
   "metadata": {},
   "source": [
    "# 5. Merge all cat + num together"
   ]
  },
  {
   "cell_type": "code",
   "execution_count": 21,
   "id": "6018ca17",
   "metadata": {},
   "outputs": [],
   "source": [
    "X_train = pd.concat([X_train_cat, X_train_num], axis = 1)\n",
    "X_test = pd.concat([X_test_cat, X_test_num], axis = 1)"
   ]
  },
  {
   "cell_type": "markdown",
   "id": "645a1bd6",
   "metadata": {},
   "source": [
    "# 6. Modelling 1: Linear Regression"
   ]
  },
  {
   "cell_type": "code",
   "execution_count": 22,
   "id": "f64c3e6e",
   "metadata": {},
   "outputs": [],
   "source": [
    "lm = LinearRegression() #import the model\n",
    "lm.fit(X_train, y_train) #model fit to train data\n",
    "y_pred_lm = lm.predict(X_test) #predict test data"
   ]
  },
  {
   "cell_type": "code",
   "execution_count": 23,
   "id": "f129f733",
   "metadata": {},
   "outputs": [
    {
     "name": "stdout",
     "output_type": "stream",
     "text": [
      "the r2 is: 0.11410474890154776\n"
     ]
    }
   ],
   "source": [
    "# measuring model\n",
    "print(\"the r2 is:\", lm.score(X_test, y_test))"
   ]
  },
  {
   "cell_type": "markdown",
   "id": "d865b6df",
   "metadata": {},
   "source": [
    "R2 is very low, giving a very low result to our model. "
   ]
  },
  {
   "cell_type": "markdown",
   "id": "ca7ee573",
   "metadata": {},
   "source": [
    "# 7. Looking at other models"
   ]
  },
  {
   "cell_type": "code",
   "execution_count": 26,
   "id": "de33c8cb",
   "metadata": {},
   "outputs": [],
   "source": [
    "def models_automation(models, X_train, y_train):\n",
    "    for model in models:\n",
    "        model.fit(X_train, y_train) #fit first on training data\n",
    "        print(f\"{model.__class__.__name__}:Train -> {model.score(X_train,y_train)}, Test -> {model.score(X_test, y_test)}\")"
   ]
  },
  {
   "cell_type": "code",
   "execution_count": 27,
   "id": "74d7f99d",
   "metadata": {},
   "outputs": [
    {
     "name": "stdout",
     "output_type": "stream",
     "text": [
      "LinearRegression:Train -> 0.23467531923977758, Test -> 0.11410474890154776\n",
      "KNeighborsRegressor:Train -> 0.6215555396068315, Test -> 0.5295958695718983\n",
      "DecisionTreeRegressor:Train -> 0.9999195353712774, Test -> 0.3332308921601771\n"
     ]
    }
   ],
   "source": [
    "model_list = [LinearRegression(), KNeighborsRegressor(), DecisionTreeRegressor()]\n",
    "#calling the function\n",
    "models_automation(model_list, X_train, y_train)"
   ]
  },
  {
   "cell_type": "markdown",
   "id": "fffb4432",
   "metadata": {},
   "source": [
    "To predict the consumption of fuel the best model is KNeighbors. "
   ]
  },
  {
   "cell_type": "code",
   "execution_count": null,
   "id": "0e54e54a",
   "metadata": {},
   "outputs": [],
   "source": []
  }
 ],
 "metadata": {
  "kernelspec": {
   "display_name": "Python 3 (ipykernel)",
   "language": "python",
   "name": "python3"
  },
  "language_info": {
   "codemirror_mode": {
    "name": "ipython",
    "version": 3
   },
   "file_extension": ".py",
   "mimetype": "text/x-python",
   "name": "python",
   "nbconvert_exporter": "python",
   "pygments_lexer": "ipython3",
   "version": "3.11.5"
  }
 },
 "nbformat": 4,
 "nbformat_minor": 5
}
